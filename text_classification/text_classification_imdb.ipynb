{
 "cells": [
  {
   "cell_type": "markdown",
   "id": "2bd488f1",
   "metadata": {},
   "source": [
    "# Text classification IMDb\n",
    "\n",
    "Found it here:\n",
    "https://keras.io/examples/nlp/text_classification_from_scratch/\n",
    "\n",
    "Dataset:\n",
    "https://ai.stanford.edu/~amaas/data/sentiment/"
   ]
  },
  {
   "cell_type": "code",
   "execution_count": 2,
   "id": "04d18086",
   "metadata": {},
   "outputs": [],
   "source": [
    "import tensorflow as tf\n",
    "import numpy as np"
   ]
  },
  {
   "cell_type": "markdown",
   "id": "d0ec856d",
   "metadata": {},
   "source": [
    "### Gathering the data and spliting it"
   ]
  },
  {
   "cell_type": "code",
   "execution_count": 4,
   "id": "5ca2bc3c",
   "metadata": {},
   "outputs": [
    {
     "name": "stdout",
     "output_type": "stream",
     "text": [
      "Found 25000 files belonging to 2 classes.\n",
      "Using 20000 files for training.\n",
      "Found 25000 files belonging to 2 classes.\n",
      "Using 5000 files for validation.\n",
      "Found 25000 files belonging to 2 classes.\n",
      "Number of batches in raw_train_ds: 625\n",
      "Number of batches in raw_val_ds: 157\n",
      "Number of batches in raw_test_ds: 782\n"
     ]
    }
   ],
   "source": [
    "batch_size = 32\n",
    "\n",
    "raw_train_ds = tf.keras.preprocessing.text_dataset_from_directory(\n",
    "    \"aclImdb/train\",\n",
    "    batch_size=batch_size,\n",
    "    validation_split=0.2,\n",
    "    subset=\"training\",\n",
    "    seed=1337,\n",
    ")\n",
    "\n",
    "raw_val_ds = tf.keras.preprocessing.text_dataset_from_directory(\n",
    "    \"aclImdb/train\",\n",
    "    batch_size=batch_size,\n",
    "    validation_split=0.2,\n",
    "    subset=\"validation\",\n",
    "    seed=1337,\n",
    ")\n",
    "\n",
    "raw_test_ds = tf.keras.preprocessing.text_dataset_from_directory(\n",
    "    \"aclImdb/test\", batch_size=batch_size\n",
    ")\n",
    "\n",
    "print(f\"Number of batches in raw_train_ds: {raw_train_ds.cardinality()}\")\n",
    "print(f\"Number of batches in raw_val_ds: {raw_val_ds.cardinality()}\")\n",
    "print(f\"Number of batches in raw_test_ds: {raw_test_ds.cardinality()}\")\n"
   ]
  },
  {
   "cell_type": "markdown",
   "id": "e252a4bb",
   "metadata": {},
   "source": [
    "### Some samples"
   ]
  },
  {
   "cell_type": "code",
   "execution_count": 5,
   "id": "1ea2bac5",
   "metadata": {},
   "outputs": [
    {
     "name": "stdout",
     "output_type": "stream",
     "text": [
      "text: b\"I've seen tons of science fiction from the 70s; some horrendously bad, and others thought provoking and truly frightening. Soylent Green fits into the\"...\n",
      "label: 1\n",
      "\n",
      "text: b\"First than anything, I'm not going to praise I\\xc3\\xb1arritu's short film, even I'm Mexican and proud of his success in mainstream Hollywood.<br /><br />In \"...\n",
      "label: 1\n",
      "\n",
      "text: b'Blood Castle (aka Scream of the Demon Lover, Altar of Blood, Ivanna--the best, but least exploitation cinema-sounding title, and so on) is a very trad'...\n",
      "label: 1\n",
      "\n",
      "text: b'I was talked into watching this movie by a friend who blubbered on about what a cute story this was.<br /><br />Yuck.<br /><br />I want my two hours b'...\n",
      "label: 0\n",
      "\n",
      "text: b'Michelle Rodriguez is the defining actress who could be the charging force for other actresses to look out for. She has the audacity to place herself '...\n",
      "label: 1\n",
      "\n"
     ]
    }
   ],
   "source": [
    "for text_batch, label_batch in raw_train_ds.take(1):\n",
    "    for i in range(5):\n",
    "        print(\"text: \" + str(text_batch.numpy()[i][:150]) + \"...\")\n",
    "        print(\"label: \" + str(label_batch.numpy()[i]) + \"\\n\")\n"
   ]
  },
  {
   "cell_type": "markdown",
   "id": "a933acf4",
   "metadata": {},
   "source": [
    "### Preparing the data\n",
    "bye tags 👋👋"
   ]
  },
  {
   "cell_type": "code",
   "execution_count": 6,
   "id": "a6f4e597",
   "metadata": {},
   "outputs": [],
   "source": [
    "from tensorflow.keras.layers import TextVectorization\n",
    "import string\n",
    "import re\n",
    "\n",
    "\n",
    "def custom_standardization(input_data):\n",
    "    lowercase = tf.strings.lower(input_data)\n",
    "    stripped_html = tf.strings.regex_replace(lowercase, \"<br />\", \" \")\n",
    "    return tf.strings.regex_replace(\n",
    "        stripped_html, f\"[{re.escape(string.punctuation)}]\", \"\"\n",
    "    )\n",
    "\n",
    "\n",
    "# constants\n",
    "max_features = 20000\n",
    "embedding_dim = 128\n",
    "sequence_length = 500\n",
    "\n",
    "\n",
    "vectorize_layer = TextVectorization(\n",
    "    standardize=custom_standardization,\n",
    "    max_tokens=max_features,\n",
    "    output_mode=\"int\",\n",
    "    output_sequence_length=sequence_length,\n",
    ")\n",
    "\n",
    "\n",
    "text_ds = raw_train_ds.map(lambda x, y: x)\n",
    "vectorize_layer.adapt(text_ds)"
   ]
  },
  {
   "cell_type": "markdown",
   "id": "42b1c1d7",
   "metadata": {},
   "source": [
    "### Vectorization"
   ]
  },
  {
   "cell_type": "code",
   "execution_count": 15,
   "id": "621aeb5d",
   "metadata": {},
   "outputs": [
    {
     "name": "stdout",
     "output_type": "stream",
     "text": [
      "text_tensor KerasTensor(type_spec=TensorSpec(shape=(None, 1), dtype=tf.string, name='text'), name='text', description=\"created by layer 'text'\")\n",
      "\n",
      "x1 KerasTensor(type_spec=TensorSpec(shape=(None, 500), dtype=tf.int64, name=None), name='text_vectorization/RaggedToTensor/RaggedTensorToTensor:0', description=\"created by layer 'text_vectorization'\")\n",
      "\n",
      "x2 KerasTensor(type_spec=TensorSpec(shape=(None, 500, 128), dtype=tf.float32, name=None), name='embedding_2/embedding_lookup/Identity_1:0', description=\"created by layer 'embedding_2'\")\n"
     ]
    }
   ],
   "source": [
    "from tensorflow.keras import layers\n",
    "\n",
    "text_tensor = tf.keras.Input(shape=(1,), dtype=tf.string, name='text')\n",
    "x1 = vectorize_layer(text_tensor)\n",
    "x2 = layers.Embedding(max_features +1, embedding_dim)(x1)\n",
    "\n",
    "print('text_tensor', text_tensor)\n",
    "print('\\nx1', x1)\n",
    "print('\\nx2', x2)\n"
   ]
  },
  {
   "cell_type": "code",
   "execution_count": 32,
   "id": "3882b9d0",
   "metadata": {},
   "outputs": [
    {
     "name": "stdout",
     "output_type": "stream",
     "text": [
      "train_ds <MapDataset shapes: ((None, 500), (None,)), types: (tf.int64, tf.int32)>\n",
      "train_ds <PrefetchDataset shapes: ((None, 500), (None,)), types: (tf.int64, tf.int32)>\n"
     ]
    }
   ],
   "source": [
    "def vectorize_text(text, label):\n",
    "    text = tf.expand_dims(text, -1)\n",
    "    return vectorize_layer(text), label\n",
    "\n",
    "# Vectorize the data.\n",
    "train_ds = raw_train_ds.map(vectorize_text)\n",
    "val_ds = raw_val_ds.map(vectorize_text)\n",
    "test_ds = raw_test_ds.map(vectorize_text)\n",
    "\n",
    "print('train_ds', train_ds)\n",
    "#print('val_ds', val_ds)\n",
    "#print('test_ds', test_ds)\n",
    "\n",
    "# Do async prefetching / buffering of the data for best performance on GPU.\n",
    "train_ds = train_ds.cache().prefetch(buffer_size=10)\n",
    "val_ds = val_ds.cache().prefetch(buffer_size=10)\n",
    "test_ds = test_ds.cache().prefetch(buffer_size=10)\n",
    "\n",
    "print('train_ds', train_ds)\n",
    "#print('val_ds', val_ds)\n",
    "#print('test_ds', test_ds)\n"
   ]
  },
  {
   "cell_type": "markdown",
   "id": "85996867",
   "metadata": {},
   "source": [
    "### Making a model"
   ]
  },
  {
   "cell_type": "code",
   "execution_count": 46,
   "id": "e68089de",
   "metadata": {},
   "outputs": [
    {
     "name": "stdout",
     "output_type": "stream",
     "text": [
      "x1 KerasTensor(type_spec=TensorSpec(shape=(None, None, 128), dtype=tf.float32, name=None), name='embedding_9/embedding_lookup/Identity_1:0', description=\"created by layer 'embedding_9'\")\n",
      "x2 KerasTensor(type_spec=TensorSpec(shape=(None, None, 128), dtype=tf.float32, name=None), name='dropout_8/Identity:0', description=\"created by layer 'dropout_8'\")\n"
     ]
    }
   ],
   "source": [
    "inputs = tf.keras.Input(shape=(None,), dtype=\"int64\")\n",
    "\n",
    "x1 = layers.Embedding(max_features, embedding_dim)(inputs)\n",
    "x2 = layers.Dropout(0.5)(x1)\n",
    "\n",
    "print('x1', x1) \n",
    "print('x2', x2)\n",
    "\n",
    "# Conv1D + global max pooling\n",
    "x = layers.Conv1D(128, 7, padding=\"valid\", activation=\"relu\", strides=3)(x2)\n",
    "x = layers.Conv1D(128, 7, padding=\"valid\", activation=\"relu\", strides=3)(x)\n",
    "x = layers.GlobalMaxPooling1D()(x)\n",
    "\n",
    "\n",
    "# We add a vanilla hidden layer:\n",
    "x = layers.Dense(256, activation=\"relu\")(x)\n",
    "x = layers.Dropout(0.5)(x)\n",
    "\n",
    "\n",
    "# We project onto a single unit output layer, and squash it with a sigmoid:\n",
    "predictions = layers.Dense(1, activation=\"sigmoid\", name=\"predictions\")(x)\n",
    "\n",
    "model = tf.keras.Model(inputs, predictions)\n",
    "\n",
    "# Compile the model with binary crossentropy loss and an adam optimizer.\n",
    "model.compile(loss=\"binary_crossentropy\", optimizer=\"adam\", metrics=[\"accuracy\"])\n"
   ]
  },
  {
   "cell_type": "markdown",
   "id": "ea2d46bf",
   "metadata": {},
   "source": [
    "### Training"
   ]
  },
  {
   "cell_type": "code",
   "execution_count": null,
   "id": "9eb5eeaa",
   "metadata": {},
   "outputs": [
    {
     "name": "stdout",
     "output_type": "stream",
     "text": [
      "Epoch 1/3\n",
      "625/625 [==============================] - 42s 66ms/step - loss: 0.5081 - accuracy: 0.7048 - val_loss: 0.3042 - val_accuracy: 0.8722\n",
      "Epoch 2/3\n",
      "625/625 [==============================] - 45s 72ms/step - loss: 0.2252 - accuracy: 0.9110 - val_loss: 0.3175 - val_accuracy: 0.8744\n",
      "Epoch 3/3\n",
      "482/625 [======================>.......] - ETA: 13s - loss: 0.1147 - accuracy: 0.9593"
     ]
    }
   ],
   "source": [
    "epochs = 3\n",
    "\n",
    "# Fit the model using the train and test datasets.\n",
    "model.fit(train_ds, validation_data=val_ds, epochs=epochs)\n"
   ]
  },
  {
   "cell_type": "code",
   "execution_count": 41,
   "id": "ff50131e",
   "metadata": {},
   "outputs": [
    {
     "name": "stdout",
     "output_type": "stream",
     "text": [
      "782/782 [==============================] - 8s 10ms/step - loss: 0.4653 - accuracy: 0.8500\n"
     ]
    },
    {
     "data": {
      "text/plain": [
       "[0.4653022587299347, 0.8500000238418579]"
      ]
     },
     "execution_count": 41,
     "metadata": {},
     "output_type": "execute_result"
    }
   ],
   "source": [
    "model.evaluate(test_ds)"
   ]
  },
  {
   "cell_type": "markdown",
   "id": "80017d06",
   "metadata": {},
   "source": [
    "### End to end\n",
    "This just uses raw strings"
   ]
  },
  {
   "cell_type": "code",
   "execution_count": 45,
   "id": "e92b2863",
   "metadata": {},
   "outputs": [
    {
     "name": "stdout",
     "output_type": "stream",
     "text": [
      "782/782 [==============================] - 9s 11ms/step - loss: 0.4653 - accuracy: 0.8500\n"
     ]
    },
    {
     "data": {
      "text/plain": [
       "[0.46530210971832275, 0.8500000238418579]"
      ]
     },
     "execution_count": 45,
     "metadata": {},
     "output_type": "execute_result"
    }
   ],
   "source": [
    "# A string input\n",
    "inputs = tf.keras.Input(shape=(1,), dtype=\"string\")\n",
    "# Turn strings into vocab indices\n",
    "indices = vectorize_layer(inputs)\n",
    "# Turn vocab indices into predictions\n",
    "outputs = model(indices)\n",
    "\n",
    "# Our end to end model\n",
    "end_to_end_model = tf.keras.Model(inputs, outputs)\n",
    "end_to_end_model.compile(\n",
    "    loss=\"binary_crossentropy\", optimizer=\"adam\", metrics=[\"accuracy\"]\n",
    ")\n",
    "\n",
    "# Test it with `raw_test_ds`, which yields raw strings\n",
    "end_to_end_model.evaluate(raw_test_ds)"
   ]
  }
 ],
 "metadata": {
  "kernelspec": {
   "display_name": "Python 3 (ipykernel)",
   "language": "python",
   "name": "python3"
  },
  "language_info": {
   "codemirror_mode": {
    "name": "ipython",
    "version": 3
   },
   "file_extension": ".py",
   "mimetype": "text/x-python",
   "name": "python",
   "nbconvert_exporter": "python",
   "pygments_lexer": "ipython3",
   "version": "3.8.10"
  }
 },
 "nbformat": 4,
 "nbformat_minor": 5
}
